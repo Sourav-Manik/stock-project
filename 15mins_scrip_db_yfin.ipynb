{
  "nbformat": 4,
  "nbformat_minor": 0,
  "metadata": {
    "colab": {
      "provenance": [],
      "authorship_tag": "ABX9TyPCY/l3JiAEr6Mn+4NwrOdF",
      "include_colab_link": true
    },
    "kernelspec": {
      "name": "python3",
      "display_name": "Python 3"
    },
    "language_info": {
      "name": "python"
    }
  },
  "cells": [
    {
      "cell_type": "markdown",
      "metadata": {
        "id": "view-in-github",
        "colab_type": "text"
      },
      "source": [
        "<a href=\"https://colab.research.google.com/github/Sourav-Manik/stock-project/blob/main/15mins_scrip_db_yfin.ipynb\" target=\"_parent\"><img src=\"https://colab.research.google.com/assets/colab-badge.svg\" alt=\"Open In Colab\"/></a>"
      ]
    },
    {
      "cell_type": "markdown",
      "source": [
        "#1.Single scrip download"
      ],
      "metadata": {
        "id": "AzvmivGTuVXN"
      }
    },
    {
      "cell_type": "code",
      "source": [
        "import yfinance as yf\n",
        "\n",
        "# Set the ticker symbol and the date range\n",
        "symbol = 'AAPL'\n",
        "start_date = '2023-01-26'\n",
        "end_date = '2023-03-25'\n",
        "\n",
        "# Download the data\n",
        "data = yf.download(symbol, start=start_date, end=end_date, interval='15m')\n",
        "\n",
        "# Print the data\n",
        "print(data)\n"
      ],
      "metadata": {
        "colab": {
          "base_uri": "https://localhost:8080/"
        },
        "id": "tdHTsxA2uhux",
        "outputId": "d7afc17d-2cef-4579-f72a-6aae01aa9cf7"
      },
      "execution_count": null,
      "outputs": [
        {
          "output_type": "stream",
          "name": "stdout",
          "text": [
            "\r[*********************100%***********************]  1 of 1 completed\n",
            "                           Open        High         Low       Close  \\\n",
            "Datetime                                                              \n",
            "2023-01-26 09:30:00  143.169998  144.250000  142.779999  143.529099   \n",
            "2023-01-26 09:45:00  143.520004  143.800003  142.929993  143.250000   \n",
            "2023-01-26 10:00:00  143.259995  143.419998  142.669998  143.119995   \n",
            "2023-01-26 10:15:00  143.119995  143.990005  143.089996  143.524994   \n",
            "2023-01-26 10:30:00  143.524994  143.649994  142.970001  143.160004   \n",
            "...                         ...         ...         ...         ...   \n",
            "2023-03-24 14:45:00  159.910004  159.949997  159.619995  159.673096   \n",
            "2023-03-24 15:00:00  159.679993  159.729996  159.360001  159.449493   \n",
            "2023-03-24 15:15:00  159.445007  160.059998  159.410004  159.839996   \n",
            "2023-03-24 15:30:00  159.845001  160.059998  159.729996  159.990005   \n",
            "2023-03-24 15:45:00  159.985001  160.339996  159.759995  160.250000   \n",
            "\n",
            "                      Adj Close   Volume  \n",
            "Datetime                                  \n",
            "2023-01-26 09:30:00  143.529099  5790065  \n",
            "2023-01-26 09:45:00  143.250000  3211721  \n",
            "2023-01-26 10:00:00  143.119995  2637316  \n",
            "2023-01-26 10:15:00  143.524994  2642171  \n",
            "2023-01-26 10:30:00  143.160004  1557941  \n",
            "...                         ...      ...  \n",
            "2023-03-24 14:45:00  159.673096  1155390  \n",
            "2023-03-24 15:00:00  159.449493  1223884  \n",
            "2023-03-24 15:15:00  159.839996  1967341  \n",
            "2023-03-24 15:30:00  159.990005  1778578  \n",
            "2023-03-24 15:45:00  160.250000  3787240  \n",
            "\n",
            "[1066 rows x 6 columns]\n"
          ]
        }
      ]
    },
    {
      "cell_type": "markdown",
      "source": [
        "#2.Multiple scrip download"
      ],
      "metadata": {
        "id": "U1QuYxEzucfr"
      }
    },
    {
      "cell_type": "code",
      "source": [
        "import yfinance as yf\n",
        "import pandas as pd\n",
        "import datetime as dt\n",
        "\n",
        "# List of stock symbols\n",
        "stock_symbols = ['ADANIENT.NS',\n",
        "'ASIANPAINT.NS',\n",
        "'AXISBANK.NS',\n",
        "'BAJAJ-AUTO.NS',\n",
        "'BAJAJFINSV.NS',\n",
        "'BAJFINANCE.NS',\n",
        "'BHARTIARTL.NS',\n",
        "'INFRATEL.NS',\n",
        "'BPCL.NS',\n",
        "'BRITANNIA.NS',\n",
        "'CIPLA.NS',\n",
        "'COALINDIA.NS',\n",
        "'DRREDDY.NS',\n",
        "'EICHERMOT.NS',\n",
        "'GAIL.NS',\n",
        "'GRASIM.NS',\n",
        "'HCLTECH.NS',\n",
        "'HDFCBANK.NS',\n",
        "'HEROMOTOCO.NS',\n",
        "'HINDALCO.NS',\n",
        "'HINDUNILVR.NS',\n",
        "'HDFC.NS',\n",
        "'ICICIBANK.NS',\n",
        "'INDUSINDBK.NS',\n",
        "'INFY.NS',\n",
        "'IOC.NS',\n",
        "'ITC.NS',\n",
        "'JSWSTEEL.NS',\n",
        "'KOTAKBANK.NS',\n",
        "'LT.NS',\n",
        "'M&M.NS',\n",
        "'MARUTI.NS',\n",
        "'NESTLEIND.NS',\n",
        "'NTPC.NS',\n",
        "'ONGC.NS',\n",
        "'POWERGRID.NS',\n",
        "'RELIANCE.NS',\n",
        "'SBILIFE.NS',\n",
        "'SHREECEM.NS',\n",
        "'SBIN.NS',\n",
        "'TATAMOTORS.NS',\n",
        "'TATASTEEL.NS',\n",
        "'TECHM.NS',\n",
        "'TITAN.NS',\n",
        "'ULTRACEMCO.NS',\n",
        "'UPL.NS',\n",
        "'VEDL.NS',\n",
        "'WIPRO.NS',\n",
        "'ZEEL.NS']"
      ],
      "metadata": {
        "id": "Q_Du5AzoaVIq"
      },
      "execution_count": null,
      "outputs": []
    },
    {
      "cell_type": "code",
      "source": [
        "# Define the time frame\n",
        "# start_date = dt.datetime.now() - dt.timedelta(days=58)\n",
        "# end_date = dt.datetime.now()\n",
        "\n",
        "end_date = dt.datetime.today().strftime('%Y-%m-%d')\n",
        "start_date = (dt.datetime.today() - dt.timedelta(days=55)).strftime('%Y-%m-%d')\n"
      ],
      "metadata": {
        "id": "oocBjw7VkM04"
      },
      "execution_count": null,
      "outputs": []
    },
    {
      "cell_type": "code",
      "source": [
        "# Create an empty DataFrame to store the data\n",
        "df = pd.DataFrame()"
      ],
      "metadata": {
        "id": "1YFCZqwvl9Ti"
      },
      "execution_count": null,
      "outputs": []
    },
    {
      "cell_type": "markdown",
      "source": [
        "##15 mins interval"
      ],
      "metadata": {
        "id": "SDYB0oGFy7i0"
      }
    },
    {
      "cell_type": "code",
      "source": [
        "# Loop through the stock symbols and download data\n",
        "for symbol in stock_symbols:\n",
        "    print(f'Downloading data for {symbol}')\n",
        "    data = yf.download(symbol, start=start_date, end=end_date, interval='15m')\n",
        "    data = data.reset_index()\n",
        "    if not data.empty:\n",
        "        data['Symbol'] = symbol\n",
        "        df = pd.concat([df, data], axis=0)\n"
      ],
      "metadata": {
        "colab": {
          "base_uri": "https://localhost:8080/"
        },
        "id": "lE9J4dlAl-mg",
        "outputId": "027b9b91-e1c9-435d-b693-b8a6088212bb"
      },
      "execution_count": null,
      "outputs": [
        {
          "output_type": "stream",
          "name": "stdout",
          "text": [
            "Downloading data for ADANIENT.NS\n",
            "[*********************100%***********************]  1 of 1 completed\n",
            "Downloading data for ASIANPAINT.NS\n",
            "[*********************100%***********************]  1 of 1 completed\n",
            "Downloading data for AXISBANK.NS\n",
            "[*********************100%***********************]  1 of 1 completed\n",
            "Downloading data for BAJAJ-AUTO.NS\n",
            "[*********************100%***********************]  1 of 1 completed\n",
            "Downloading data for BAJAJFINSV.NS\n",
            "[*********************100%***********************]  1 of 1 completed\n",
            "Downloading data for BAJFINANCE.NS\n",
            "[*********************100%***********************]  1 of 1 completed\n",
            "Downloading data for BHARTIARTL.NS\n",
            "[*********************100%***********************]  1 of 1 completed\n",
            "Downloading data for INFRATEL.NS\n",
            "[*********************100%***********************]  1 of 1 completed\n",
            "\n",
            "1 Failed download:\n",
            "- INFRATEL.NS: No timezone found, symbol may be delisted\n",
            "Downloading data for BPCL.NS\n",
            "[*********************100%***********************]  1 of 1 completed\n",
            "Downloading data for BRITANNIA.NS\n",
            "[*********************100%***********************]  1 of 1 completed\n",
            "Downloading data for CIPLA.NS\n",
            "[*********************100%***********************]  1 of 1 completed\n",
            "Downloading data for COALINDIA.NS\n",
            "[*********************100%***********************]  1 of 1 completed\n",
            "Downloading data for DRREDDY.NS\n",
            "[*********************100%***********************]  1 of 1 completed\n",
            "Downloading data for EICHERMOT.NS\n",
            "[*********************100%***********************]  1 of 1 completed\n",
            "Downloading data for GAIL.NS\n",
            "[*********************100%***********************]  1 of 1 completed\n",
            "Downloading data for GRASIM.NS\n",
            "[*********************100%***********************]  1 of 1 completed\n",
            "Downloading data for HCLTECH.NS\n",
            "[*********************100%***********************]  1 of 1 completed\n",
            "Downloading data for HDFCBANK.NS\n",
            "[*********************100%***********************]  1 of 1 completed\n",
            "Downloading data for HEROMOTOCO.NS\n",
            "[*********************100%***********************]  1 of 1 completed\n",
            "Downloading data for HINDALCO.NS\n",
            "[*********************100%***********************]  1 of 1 completed\n",
            "Downloading data for HINDUNILVR.NS\n",
            "[*********************100%***********************]  1 of 1 completed\n",
            "Downloading data for HDFC.NS\n",
            "[*********************100%***********************]  1 of 1 completed\n",
            "Downloading data for ICICIBANK.NS\n",
            "[*********************100%***********************]  1 of 1 completed\n",
            "Downloading data for INDUSINDBK.NS\n",
            "[*********************100%***********************]  1 of 1 completed\n",
            "Downloading data for INFY.NS\n",
            "[*********************100%***********************]  1 of 1 completed\n",
            "Downloading data for IOC.NS\n",
            "[*********************100%***********************]  1 of 1 completed\n",
            "Downloading data for ITC.NS\n",
            "[*********************100%***********************]  1 of 1 completed\n",
            "Downloading data for JSWSTEEL.NS\n",
            "[*********************100%***********************]  1 of 1 completed\n",
            "Downloading data for KOTAKBANK.NS\n",
            "[*********************100%***********************]  1 of 1 completed\n",
            "Downloading data for LT.NS\n",
            "[*********************100%***********************]  1 of 1 completed\n",
            "Downloading data for M&M.NS\n",
            "[*********************100%***********************]  1 of 1 completed\n",
            "Downloading data for MARUTI.NS\n",
            "[*********************100%***********************]  1 of 1 completed\n",
            "Downloading data for NESTLEIND.NS\n",
            "[*********************100%***********************]  1 of 1 completed\n",
            "Downloading data for NTPC.NS\n",
            "[*********************100%***********************]  1 of 1 completed\n",
            "Downloading data for ONGC.NS\n",
            "[*********************100%***********************]  1 of 1 completed\n",
            "Downloading data for POWERGRID.NS\n",
            "[*********************100%***********************]  1 of 1 completed\n",
            "Downloading data for RELIANCE.NS\n",
            "[*********************100%***********************]  1 of 1 completed\n",
            "Downloading data for SBILIFE.NS\n",
            "[*********************100%***********************]  1 of 1 completed\n",
            "Downloading data for SHREECEM.NS\n",
            "[*********************100%***********************]  1 of 1 completed\n",
            "Downloading data for SBIN.NS\n",
            "[*********************100%***********************]  1 of 1 completed\n",
            "Downloading data for TATAMOTORS.NS\n",
            "[*********************100%***********************]  1 of 1 completed\n",
            "Downloading data for TATASTEEL.NS\n",
            "[*********************100%***********************]  1 of 1 completed\n",
            "Downloading data for TECHM.NS\n",
            "[*********************100%***********************]  1 of 1 completed\n",
            "Downloading data for TITAN.NS\n",
            "[*********************100%***********************]  1 of 1 completed\n",
            "Downloading data for ULTRACEMCO.NS\n",
            "[*********************100%***********************]  1 of 1 completed\n",
            "Downloading data for UPL.NS\n",
            "[*********************100%***********************]  1 of 1 completed\n",
            "Downloading data for VEDL.NS\n",
            "[*********************100%***********************]  1 of 1 completed\n",
            "Downloading data for WIPRO.NS\n",
            "[*********************100%***********************]  1 of 1 completed\n",
            "Downloading data for ZEEL.NS\n",
            "[*********************100%***********************]  1 of 1 completed\n"
          ]
        }
      ]
    },
    {
      "cell_type": "code",
      "source": [
        "# Save the data to an Excel file\n",
        "df.to_excel('stock_data_15_mins.xlsx', index=False)\n",
        "print('Data saved to Excel file.')"
      ],
      "metadata": {
        "colab": {
          "base_uri": "https://localhost:8080/"
        },
        "id": "13EO8Jv2l9Wn",
        "outputId": "b2163ef9-a5c8-45b8-ce3b-3533c2fe73e0"
      },
      "execution_count": null,
      "outputs": [
        {
          "output_type": "stream",
          "name": "stdout",
          "text": [
            "Data saved to Excel file.\n"
          ]
        }
      ]
    }
  ]
}